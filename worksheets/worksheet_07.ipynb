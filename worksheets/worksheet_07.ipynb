{
 "cells": [
  {
   "attachments": {},
   "cell_type": "markdown",
   "metadata": {},
   "source": [
    "# Worksheet 07\n",
    "\n",
    "Name:  Zeming Chen\n",
    "\n",
    "UID: U98986406\n",
    "\n",
    "### Topics\n",
    "\n",
    "- Soft Clustering\n",
    "- Clustering Aggregation\n",
    "\n",
    "### Probability Review\n",
    "\n",
    "Read through [the following](https://medium.com/@gallettilance/overview-of-probability-3272b72c82c8)\n",
    "\n",
    "### Soft Clustering\n",
    "\n",
    "We generate 10 data points that come from a normal distribution with mean 5 and variance 1."
   ]
  },
  {
   "cell_type": "code",
   "execution_count": 7,
   "metadata": {},
   "outputs": [
    {
     "name": "stdout",
     "output_type": "stream",
     "text": [
      "[6.794893589415476, 2.9305662844050073, 5.1011523433317505, 7.617753860837869, 4.9486199978347685, 4.127338623450863, 3.6513664285157805, 4.982900561318145, 3.8822404439718206, 5.712511128319084]\n"
     ]
    }
   ],
   "source": [
    "import random\n",
    "import numpy as np\n",
    "from sklearn.cluster import KMeans\n",
    "\n",
    "mean = 5\n",
    "stdev = 1\n",
    "\n",
    "c1 = np.random.normal(mean, stdev, 10).tolist()\n",
    "print(c1)"
   ]
  },
  {
   "cell_type": "markdown",
   "metadata": {},
   "source": [
    "a) Generate 10 more data points, this time coming from a normal distribution with mean 8 and variance 1."
   ]
  },
  {
   "cell_type": "code",
   "execution_count": 8,
   "metadata": {},
   "outputs": [
    {
     "name": "stdout",
     "output_type": "stream",
     "text": [
      "[7.324588412717516, 8.582989682815914, 6.1802640062951575, 8.7718803603002, 9.346462174735894, 9.471474780903744, 7.83814718019232, 6.997881944151576, 8.602897362764178, 6.49689722220985]\n"
     ]
    }
   ],
   "source": [
    "c2 = np.random.normal(8, 1, 10).tolist()\n",
    "print(c2)"
   ]
  },
  {
   "cell_type": "markdown",
   "metadata": {},
   "source": [
    "b) Flip a fair coin 10 times. If the coin lands on H, then pick the last data point of `c1` and remove it from `c1`, if T then pick the last data point from `c2` and remove it from `c2`. Add these 10 points to a list called `data`."
   ]
  },
  {
   "cell_type": "code",
   "execution_count": 9,
   "metadata": {},
   "outputs": [
    {
     "name": "stdout",
     "output_type": "stream",
     "text": [
      "[5.712511128319084, 3.8822404439718206, 4.982900561318145, 3.6513664285157805, 4.127338623450863, 6.49689722220985, 4.9486199978347685, 8.602897362764178, 7.617753860837869, 5.1011523433317505]\n"
     ]
    }
   ],
   "source": [
    "data = []\n",
    "for i in range(10):\n",
    "    # flip coin\n",
    "    coin_output = random.choice([0, 1])\n",
    "    if coin_output == 0:\n",
    "        p1 = c1[-1]\n",
    "        data.append(p1)\n",
    "        c1.remove(p1)\n",
    "    else:\n",
    "        p2 = c2[-1]\n",
    "        data.append(p2)\n",
    "        c2.remove(p2)\n",
    "\n",
    "print(data)"
   ]
  },
  {
   "cell_type": "markdown",
   "metadata": {},
   "source": [
    "c) This `data` is a Gaussian Mixture Distribution with 2 mixture components. Over the next few questions we will walk through the GMM algorithm to see if we can uncover the parameters we used to generate this data. First, please list all these parameters of the GMM that created `data` and the values we know they have."
   ]
  },
  {
   "attachments": {},
   "cell_type": "markdown",
   "metadata": {},
   "source": [
    "Mean is 5 or 8, varience is 1, P(c_i) is 0.5"
   ]
  },
  {
   "cell_type": "markdown",
   "metadata": {},
   "source": [
    "d) Let's assume there are two mixture components (note: we could plot the data and make the observation that there are two clusters). The EM algorithm asks us to start with a random `mean_j`, `variance_j`, `P(C_j)` for each component j. One method we could use to find sensible values for these is to apply K means with k=2 here.\n",
    "\n",
    "1. the centroids would be the estimates of the `mean_j`\n",
    "2. the intra-cluster variance could be the estimate of `variance_j`\n",
    "3. the proportion of points in each cluster could be the estimate of `P(C_j)`\n",
    "\n",
    "Go through this process and list the parameter estimates it gives. Are they close or far from the true values?"
   ]
  },
  {
   "cell_type": "code",
   "execution_count": 11,
   "metadata": {},
   "outputs": [
    {
     "name": "stdout",
     "output_type": "stream",
     "text": [
      "[5.712511128319084, 3.8822404439718206, 4.982900561318145, 3.6513664285157805, 4.127338623450863, 4.9486199978347685, 5.1011523433317505]\n",
      "[6.49689722220985, 8.602897362764178, 7.617753860837869]\n",
      "P(C_1) = 0.7,  P(C_2) = 0.3\n",
      "mean_1 = 4.629447075248888,  mean_2 = 7.572516148603966\n",
      "var_1 = 0.4842009604316822,  var_2 = 0.7402293239732202\n"
     ]
    }
   ],
   "source": [
    "kmeans = KMeans(2, init='k-means++').fit(X=np.array(data).reshape(-1, 1))\n",
    "\n",
    "c1 = [x[0] for x in filter(lambda x: x[1] == 0, zip(data, kmeans.labels_))]\n",
    "print(c1)\n",
    "c2 = [x[0] for x in filter(lambda x: x[1] == 1, zip(data, kmeans.labels_))]\n",
    "print(c2)\n",
    "\n",
    "prob_c = [ len(c1) / (len(c1) + len(c2)) , len(c2) / (len(c1) + len(c2)) ]\n",
    "mean = [ sum(c1)/len(c1) , sum(c2)/len(c2) ]\n",
    "var = [ sum(map(lambda x : (x - mean[0])**2, c1)) / len(c1) , sum(map(lambda x : (x - mean[1])**2, c2)) / len(c2) ]\n",
    "\n",
    "print(\"P(C_1) = \" + str(prob_c[0]) + \",  P(C_2) = \" + str(prob_c[1]))\n",
    "print(\"mean_1 = \" + str(mean[0]) + \",  mean_2 = \" + str(mean[1]))\n",
    "print(\"var_1 = \" + str(var[0]) + \",  var_2 = \" + str(var[1]))"
   ]
  },
  {
   "attachments": {},
   "cell_type": "markdown",
   "metadata": {},
   "source": [
    "Probability is not close, but the rest is pretty close."
   ]
  },
  {
   "cell_type": "markdown",
   "metadata": {},
   "source": [
    "e) For each data point, compute `P(C_j | X_i)`. Comment on which cluster you think each point belongs to based on the estimated probabilities. How does that compare to the truth?"
   ]
  },
  {
   "cell_type": "code",
   "execution_count": 12,
   "metadata": {},
   "outputs": [
    {
     "name": "stdout",
     "output_type": "stream",
     "text": [
      "point =  5.712511128319084\n",
      "probability of observing that point if it came from cluster 0 =  0.06751970122294787\n",
      "probability of observing that point if it came from cluster 1 =  0.022935290637524017\n",
      "point =  3.8822404439718206\n",
      "probability of observing that point if it came from cluster 0 =  0.25047974242066673\n",
      "probability of observing that point if it came from cluster 1 =  2.161254424541356e-06\n",
      "point =  4.982900561318145\n",
      "probability of observing that point if it came from cluster 0 =  0.6312120877988894\n",
      "probability of observing that point if it came from cluster 1 =  0.0011855696470014913\n",
      "point =  3.6513664285157805\n",
      "probability of observing that point if it came from cluster 0 =  0.10711404195171934\n",
      "probability of observing that point if it came from cluster 1 =  4.348099011450586e-07\n",
      "point =  4.127338623450863\n",
      "probability of observing that point if it came from cluster 0 =  0.4812584820045823\n",
      "probability of observing that point if it came from cluster 1 =  1.0660705313839834e-05\n",
      "point =  6.49689722220985\n",
      "probability of observing that point if it came from cluster 0 =  0.0004851715469903687\n",
      "probability of observing that point if it came from cluster 1 =  0.18751868351602977\n",
      "point =  4.9486199978347685\n",
      "probability of observing that point if it came from cluster 0 =  0.6630275153629068\n",
      "probability of observing that point if it came from cluster 1 =  0.0010071632611452956\n",
      "point =  8.602897362764178\n",
      "probability of observing that point if it came from cluster 0 =  1.962516717972622e-15\n",
      "probability of observing that point if it came from cluster 1 =  0.20455028691291524\n",
      "point =  7.617753860837869\n",
      "probability of observing that point if it came from cluster 0 =  4.415427072971485e-09\n",
      "probability of observing that point if it came from cluster 1 =  0.5379386840615428\n",
      "point =  5.1011523433317505\n",
      "probability of observing that point if it came from cluster 0 =  0.5126256396152634\n",
      "probability of observing that point if it came from cluster 1 =  0.0020469130512589992\n",
      "5.712511128319084\n",
      "Probability of coming from C_1 = 0.8729214843830367\n",
      "Probability of coming from C_2 = 0.1270785156169632\n",
      "\n",
      "3.8822404439718206\n",
      "Probability of coming from C_1 = 0.9999963021022695\n",
      "Probability of coming from C_2 = 3.697897730554362e-06\n",
      "\n",
      "4.982900561318145\n",
      "Probability of coming from C_1 = 0.9991956861818373\n",
      "Probability of coming from C_2 = 0.0008043138181627503\n",
      "\n",
      "3.6513664285157805\n",
      "Probability of coming from C_1 = 0.999998260295542\n",
      "Probability of coming from C_2 = 1.7397044580378362e-06\n",
      "\n",
      "4.127338623450863\n",
      "Probability of coming from C_1 = 0.9999905064939068\n",
      "Probability of coming from C_2 = 9.493506093171545e-06\n",
      "\n",
      "6.49689722220985\n",
      "Probability of coming from C_1 = 0.006000861063224439\n",
      "Probability of coming from C_2 = 0.9939991389367755\n",
      "\n",
      "4.9486199978347685\n",
      "Probability of coming from C_1 = 0.999349407731832\n",
      "Probability of coming from C_2 = 0.0006505922681680443\n",
      "\n",
      "8.602897362764178\n",
      "Probability of coming from C_1 = 2.2386698862069495e-14\n",
      "Probability of coming from C_2 = 0.9999999999999776\n",
      "\n",
      "7.617753860837869\n",
      "Probability of coming from C_1 = 1.9152113945704538e-08\n",
      "Probability of coming from C_2 = 0.9999999808478861\n",
      "\n",
      "5.1011523433317505\n",
      "Probability of coming from C_1 = 0.9982916387211689\n",
      "Probability of coming from C_2 = 0.0017083612788311247\n",
      "\n"
     ]
    }
   ],
   "source": [
    "from scipy.stats import norm\n",
    "\n",
    "prob_c0_x = [] # P(C_0 | X_i)\n",
    "prob_c1_x = [] # P(C_1 | X_i)\n",
    "prob_x = [] # P(X_i)\n",
    "\n",
    "k = 2\n",
    "\n",
    "for p in data:\n",
    "    print(\"point = \", p)\n",
    "    pdf_i = []\n",
    "\n",
    "    for j in range(k):\n",
    "        # P(X_i | C_j)\n",
    "        pdf_i.append(norm.pdf(p, mean[j], var[j]))\n",
    "        print(\"probability of observing that point if it came from cluster \" + str(j) + \" = \", pdf_i[j])\n",
    "        # P(C_j) already computed\n",
    "        prob_c[j]\n",
    "\n",
    "    # P(X_i) = P(C_0)P(X_i | C_0) + P(C_1)P(X_i | C_1)\n",
    "    prob_x = prob_c[0] * pdf_i[0] + prob_c[1] * pdf_i[1]\n",
    "\n",
    "    # P(C_j | X_i) = P(X_i | C_j)P(C_j) / P(X_i)\n",
    "    prob_c0_x.append( pdf_i[0] * prob_c[0] / prob_x)\n",
    "    prob_c1_x.append( pdf_i[1] * prob_c[1] / prob_x )\n",
    "\n",
    "probs = zip(data, prob_c0_x, prob_c1_x)\n",
    "for p in probs:\n",
    "    print(p[0])\n",
    "    print(\"Probability of coming from C_1 = \" + str(p[1]))\n",
    "    print(\"Probability of coming from C_2 = \" + str(p[2]))\n",
    "    print()\n"
   ]
  },
  {
   "cell_type": "markdown",
   "metadata": {},
   "source": [
    "f) Having computed `P(C_j | X_i)`, update the estimates of `mean_j`, `var_j`, and `P(C_j)`. How different are these values from the original ones you got from K means? briefly comment."
   ]
  },
  {
   "cell_type": "code",
   "execution_count": 22,
   "metadata": {},
   "outputs": [
    {
     "name": "stdout",
     "output_type": "stream",
     "text": [
      "[5.712511128319084, 3.8822404439718206, 4.982900561318145, 3.6513664285157805, 4.127338623450863, 4.9486199978347685, 5.1011523433317505]\n",
      "P(C_1) = 0.6875744166124953,  P(C_2) = 0.31242558338750465\n",
      "mean_1 = 4.6108721612427,  mean_2 = 7.496345323325517\n",
      "var_1 = 0.22534330403111869,  var_2 = 0.22534330403111866\n"
     ]
    }
   ],
   "source": [
    "import statistics\n",
    "prob_c = [sum(prob_c0_x)/ len(prob_c0_x), sum(prob_c1_x)/ len(prob_c1_x)]\n",
    "mean = [sum([x[0] * x[1] for x in zip(prob_c0_x, data)]) / sum(prob_c0_x), sum([x[0] * x[1] for x in zip(prob_c1_x, data)]) / sum(prob_c1_x)]\n",
    "var = [statistics.variance([x for x in prob_c0_x]) ,statistics.variance([x for x in prob_c1_x]) ]\n",
    "print(str(c1))\n",
    "\n",
    "print(\"P(C_1) = \" + str(prob_c[0]) + \",  P(C_2) = \" + str(prob_c[1]))\n",
    "print(\"mean_1 = \" + str(mean[0]) + \",  mean_2 = \" + str(mean[1]))\n",
    "print(\"var_1 = \" + str(var[0]) + \",  var_2 = \" + str(var[1]))"
   ]
  },
  {
   "attachments": {},
   "cell_type": "markdown",
   "metadata": {},
   "source": [
    "They are pretty similar"
   ]
  },
  {
   "cell_type": "markdown",
   "metadata": {},
   "source": [
    "g) Update `P(C_j | X_i)`. Comment on any differences or lack thereof you observe."
   ]
  },
  {
   "cell_type": "code",
   "execution_count": 23,
   "metadata": {},
   "outputs": [
    {
     "name": "stdout",
     "output_type": "stream",
     "text": [
      "point =  5.712511128319084\n",
      "probability of observing that point if it came from cluster 0 =  1.1437986229704623e-05\n",
      "probability of observing that point if it came from cluster 1 =  4.3722242634099424e-14\n",
      "point =  3.8822404439718206\n",
      "probability of observing that point if it came from cluster 0 =  0.009501155168687391\n",
      "probability of observing that point if it came from cluster 1 =  2.46884315002667e-56\n",
      "point =  4.982900561318145\n",
      "probability of observing that point if it came from cluster 0 =  0.4531143975616555\n",
      "probability of observing that point if it came from cluster 1 =  1.7105867950124917e-27\n",
      "point =  3.6513664285157805\n",
      "probability of observing that point if it came from cluster 0 =  0.00020469779015786475\n",
      "probability of observing that point if it came from cluster 1 =  1.0673185678132056e-63\n",
      "point =  4.127338623450863\n",
      "probability of observing that point if it came from cluster 0 =  0.17711434282924102\n",
      "probability of observing that point if it came from cluster 1 =  5.146744338305202e-49\n",
      "point =  6.49689722220985\n",
      "probability of observing that point if it came from cluster 0 =  1.0889050851975839e-15\n",
      "probability of observing that point if it came from cluster 1 =  9.473607897001653e-05\n",
      "point =  4.9486199978347685\n",
      "probability of observing that point if it came from cluster 0 =  0.5757792671542807\n",
      "probability of observing that point if it came from cluster 1 =  3.098942283838671e-28\n",
      "point =  8.602897362764178\n",
      "probability of observing that point if it came from cluster 0 =  1.2598276428465406e-68\n",
      "probability of observing that point if it came from cluster 1 =  1.0279129070356875e-05\n",
      "point =  7.617753860837869\n",
      "probability of observing that point if it came from cluster 0 =  3.8448144541802875e-39\n",
      "probability of observing that point if it came from cluster 1 =  1.53120403331483\n",
      "point =  5.1011523433317505\n",
      "probability of observing that point if it came from cluster 0 =  0.16601936700056463\n",
      "probability of observing that point if it came from cluster 1 =  5.1919132516014285e-25\n"
     ]
    }
   ],
   "source": [
    "for p in data:\n",
    "    print(\"point = \", p)\n",
    "    pdf_i = []\n",
    "\n",
    "    for j in range(k):\n",
    "        # P(X_i | C_j)\n",
    "        pdf_i.append(norm.pdf(p, mean[j], var[j]))\n",
    "        print(\"probability of observing that point if it came from cluster \" + str(j) + \" = \", pdf_i[j])\n",
    "        # P(C_j) already computed\n",
    "        prob_c[j]\n",
    "\n",
    "    # P(X_i) = P(C_0)P(X_i | C_0) + P(C_1)P(X_i | C_1)\n",
    "    prob_x = prob_c[0] * pdf_i[0] + prob_c[1] * pdf_i[1]\n",
    "\n",
    "    # P(C_j | X_i) = P(X_i | C_j)P(C_j) / P(X_i)\n",
    "    prob_c0_x.append( pdf_i[0] * prob_c[0] / prob_x)\n",
    "    prob_c1_x.append( pdf_i[1] * prob_c[1] / prob_x )"
   ]
  },
  {
   "cell_type": "markdown",
   "metadata": {},
   "source": []
  },
  {
   "cell_type": "markdown",
   "metadata": {},
   "source": [
    "h) Use `P(C_j | X_i)` to create a hard assignment - label each point as belonging to a specific cluster (0 or 1)"
   ]
  },
  {
   "cell_type": "code",
   "execution_count": null,
   "metadata": {},
   "outputs": [],
   "source": []
  },
  {
   "cell_type": "markdown",
   "metadata": {},
   "source": [
    "### Clustering Aggregation\n",
    "\n",
    "| Point | C | P |\n",
    "|-------|---|---|\n",
    "| A     | 0 | a |\n",
    "| B     | 0 | b |\n",
    "| C     | 2 | b |\n",
    "| D     | 1 | c |\n",
    "| E     | 1 | d |\n",
    "\n",
    "a) Fill in the following table where for each pair of points determine whether C and P agree or disagree on how to cluster that pair."
   ]
  },
  {
   "cell_type": "markdown",
   "metadata": {},
   "source": [
    "| Pair | Disagreement |\n",
    "|------|--------------|\n",
    "| A  B |      ?       |\n",
    "| A  C |      ?       |\n",
    "| A  D |      ?       |\n",
    "| A  E |      ?       |\n",
    "| B  C |      ?       |\n",
    "| B  D |      ?       |\n",
    "| B  E |      ?       |\n",
    "| C  D |      ?       |\n",
    "| C  E |      ?       |\n",
    "| D  E |      ?       |\n"
   ]
  },
  {
   "cell_type": "markdown",
   "metadata": {},
   "source": [
    "As datasets become very large, this process can become computationally challenging.\n",
    "\n",
    "b) Given N points, what is the formula for the number of unique pairs of points one can create?"
   ]
  },
  {
   "cell_type": "markdown",
   "metadata": {},
   "source": []
  },
  {
   "cell_type": "markdown",
   "metadata": {},
   "source": [
    "Assume that clustering C clusters all points in the same cluster and clustering P clusters points as such:\n",
    "\n",
    "| Point | P |\n",
    "|-------|---|\n",
    "| A     | 0 |\n",
    "| B     | 0 |\n",
    "| C     | 0 |\n",
    "| D     | 1 |\n",
    "| E     | 1 |\n",
    "| F     | 2 |\n",
    "| G     | 2 |\n",
    "| H     | 2 |\n",
    "| I     | 2 |\n",
    "\n",
    "c) What is the maximum number of disagreements there could be for a dataset of this size? (use the formula from b)?"
   ]
  },
  {
   "cell_type": "markdown",
   "metadata": {},
   "source": []
  },
  {
   "cell_type": "markdown",
   "metadata": {},
   "source": [
    "d) If we look at cluster 0. There are (3 x 2) / 2 = 3 pairs that agree with C (since all points in C are in the same cluster). For each cluster, determine how many agreements there are. How many total agreements are there? How many disagreements does that mean there are between C and P?"
   ]
  },
  {
   "cell_type": "markdown",
   "metadata": {},
   "source": []
  },
  {
   "cell_type": "markdown",
   "metadata": {},
   "source": [
    "e) Assuming that filtering the dataset by cluster number is a computationally easy operation, describe an algorithm inspired by the above process that can efficiently compute disagreement distances on large datasets."
   ]
  },
  {
   "cell_type": "markdown",
   "metadata": {},
   "source": []
  }
 ],
 "metadata": {
  "kernelspec": {
   "display_name": "Python 3",
   "language": "python",
   "name": "python3"
  },
  "language_info": {
   "codemirror_mode": {
    "name": "ipython",
    "version": 3
   },
   "file_extension": ".py",
   "mimetype": "text/x-python",
   "name": "python",
   "nbconvert_exporter": "python",
   "pygments_lexer": "ipython3",
   "version": "3.8.2"
  },
  "orig_nbformat": 4,
  "vscode": {
   "interpreter": {
    "hash": "31f2aee4e71d21fbe5cf8b01ff0e069b9275f58929596ceb00d14d90e3e16cd6"
   }
  }
 },
 "nbformat": 4,
 "nbformat_minor": 2
}
